{
 "cells": [
  {
   "cell_type": "markdown",
   "metadata": {},
   "source": [
    "# Text to speachを試す"
   ]
  },
  {
   "cell_type": "code",
   "execution_count": null,
   "metadata": {},
   "outputs": [],
   "source": [
    "%pip install --upgrade openai"
   ]
  },
  {
   "cell_type": "code",
   "execution_count": 4,
   "metadata": {},
   "outputs": [],
   "source": [
    "import os\n",
    "\n",
    "# ホームディレクトリの下にあるファイルのパスを作成\n",
    "file_path = os.path.join(os.path.expanduser(\"~\"), 'dotsecret')\n",
    "\n",
    "# ファイルを開いて各行を読みます\n",
    "variables = {}\n",
    "with open(file_path, 'r') as file:\n",
    "    for line in file:\n",
    "        # 空白行を無視します\n",
    "        if line.strip():\n",
    "            key, value = line.strip().split('=')\n",
    "            os.environ[key] = value"
   ]
  },
  {
   "cell_type": "code",
   "execution_count": 12,
   "metadata": {},
   "outputs": [],
   "source": [
    "import openai\n",
    "\n",
    "# OpenAI APIキーの設定\n",
    "\n",
    "client = openai.OpenAI()\n",
    "\n",
    "def text_to_speech_openai(text, model='tts-1', voice='alloy'):\n",
    "    response = client.audio.speech.create(\n",
    "        model=\"tts-1\",\n",
    "        voice=\"alloy\",\n",
    "        input=text,\n",
    "    )\n",
    "    return response.content\n",
    "\n",
    "# 例\n",
    "text = \"ここにテキストを入力\"\n",
    "audio_content = text_to_speech_openai(text)\n",
    "\n",
    "# オーディオファイルとして保存\n",
    "with open('openai_audio.mp3', 'wb') as out:\n",
    "    out.write(audio_content)\n"
   ]
  }
 ],
 "metadata": {
  "kernelspec": {
   "display_name": "venv",
   "language": "python",
   "name": "python3"
  },
  "language_info": {
   "codemirror_mode": {
    "name": "ipython",
    "version": 3
   },
   "file_extension": ".py",
   "mimetype": "text/x-python",
   "name": "python",
   "nbconvert_exporter": "python",
   "pygments_lexer": "ipython3",
   "version": "3.11.4"
  }
 },
 "nbformat": 4,
 "nbformat_minor": 2
}
