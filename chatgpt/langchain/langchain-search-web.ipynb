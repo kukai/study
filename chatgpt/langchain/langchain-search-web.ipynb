{
 "cells": [
  {
   "cell_type": "markdown",
   "metadata": {},
   "source": [
    "# LangChainでWeb検索"
   ]
  },
  {
   "cell_type": "markdown",
   "metadata": {},
   "source": [
    "https://zenn.dev/umi_mori/articles/langchain-agents-duckduckgo-search"
   ]
  },
  {
   "cell_type": "code",
   "execution_count": null,
   "metadata": {},
   "outputs": [],
   "source": [
    "%pip install python-dotenv\n",
    "%pip install langchain openai\n",
    "%pip install duckduckgo-search"
   ]
  },
  {
   "cell_type": "code",
   "execution_count": 2,
   "metadata": {},
   "outputs": [
    {
     "name": "stdout",
     "output_type": "stream",
     "text": [
      "\n",
      "\n",
      "\u001b[1m> Entering new AgentExecutor chain...\u001b[0m\n",
      "\u001b[32;1m\u001b[1;3m\n",
      "Thought: Do I need to use a tool? No\n",
      "AI: LangChainは、AIを使用した自然言語処理技術です。自然言語処理を使用して、複雑な質問や会話を行うことができます。LangChainは、自然言語処理を使用して、複雑な質問や会話を行うことができるように設計されています。\u001b[0m\n",
      "\n",
      "\u001b[1m> Finished chain.\u001b[0m\n"
     ]
    },
    {
     "data": {
      "text/plain": [
       "'LangChainは、AIを使用した自然言語処理技術です。自然言語処理を使用して、複雑な質問や会話を行うことができます。LangChainは、自然言語処理を使用して、複雑な質問や会話を行うことができるように設計されています。'"
      ]
     },
     "execution_count": 2,
     "metadata": {},
     "output_type": "execute_result"
    }
   ],
   "source": [
    "from langchain.llms import OpenAI\n",
    "from langchain.agents import initialize_agent\n",
    "from langchain.agents import AgentType\n",
    "from langchain.agents import Tool\n",
    "from langchain.memory import ConversationBufferMemory\n",
    "from langchain.tools import DuckDuckGoSearchRun\n",
    "\n",
    "llm = OpenAI(model_name=\"text-davinci-003\", temperature=0.2)\n",
    "search = DuckDuckGoSearchRun()\n",
    "\n",
    "tools = [\n",
    "    Tool(\n",
    "        name=\"duckduckgo-search\",\n",
    "        func=search.run,\n",
    "        description=\"useful for when you need to search for latest information in web\",\n",
    "    )\n",
    "]\n",
    "\n",
    "memory = ConversationBufferMemory(\n",
    "    memory_key=\"chat_history\",\n",
    "    return_messages=True,\n",
    ")\n",
    "\n",
    "agent = initialize_agent(\n",
    "    tools=tools,\n",
    "    llm=llm,\n",
    "    agent=AgentType.CONVERSATIONAL_REACT_DESCRIPTION,\n",
    "    memory=memory,\n",
    "    verbose=True\n",
    ")\n",
    "\n",
    "agent.run(\"\"\"\n",
    "LangChainとはなんですか？\n",
    "\"\"\")"
   ]
  },
  {
   "cell_type": "code",
   "execution_count": 3,
   "metadata": {},
   "outputs": [
    {
     "name": "stdout",
     "output_type": "stream",
     "text": [
      "\n",
      "\n",
      "\u001b[1m> Entering new AgentExecutor chain...\u001b[0m\n",
      "\u001b[32;1m\u001b[1;3mThought: Do I need to use a tool? No\n",
      "AI: Indexとは、自然言語処理技術において、文章内の単語を識別するために使用される技術です。Indexを使用することで、文章内の単語を正確に識別し、自然言語処理を行うことができます。\u001b[0m\n",
      "\n",
      "\u001b[1m> Finished chain.\u001b[0m\n"
     ]
    },
    {
     "data": {
      "text/plain": [
       "'Indexとは、自然言語処理技術において、文章内の単語を識別するために使用される技術です。Indexを使用することで、文章内の単語を正確に識別し、自然言語処理を行うことができます。'"
      ]
     },
     "execution_count": 3,
     "metadata": {},
     "output_type": "execute_result"
    }
   ],
   "source": [
    "agent.run(\"\"\"\n",
    "その技術におけるIndexとはなんですか？\n",
    "\"\"\")"
   ]
  },
  {
   "cell_type": "code",
   "execution_count": 4,
   "metadata": {},
   "outputs": [
    {
     "name": "stdout",
     "output_type": "stream",
     "text": [
      "\n",
      "\n",
      "\u001b[1m> Entering new AgentExecutor chain...\u001b[0m\n",
      "\u001b[32;1m\u001b[1;3mThought: Do I need to use a tool? No\n",
      "AI: 以下のサンプルコードを参考にしてください。\n",
      "\n",
      "from langchain.index import Index\n",
      "\n",
      "index = Index()\n",
      "\n",
      "# Create a new index\n",
      "index.create('example_index')\n",
      "\n",
      "# Add documents to the index\n",
      "index.add_document('example_index', 'This is an example document')\n",
      "\n",
      "# Search the index\n",
      "results = index.search('example_index', 'example')\n",
      "\n",
      "# Print the results\n",
      "print(results)\u001b[0m\n",
      "\n",
      "\u001b[1m> Finished chain.\u001b[0m\n"
     ]
    },
    {
     "data": {
      "text/plain": [
       "\"以下のサンプルコードを参考にしてください。\\n\\nfrom langchain.index import Index\\n\\nindex = Index()\\n\\n# Create a new index\\nindex.create('example_index')\\n\\n# Add documents to the index\\nindex.add_document('example_index', 'This is an example document')\\n\\n# Search the index\\nresults = index.search('example_index', 'example')\\n\\n# Print the results\\nprint(results)\""
      ]
     },
     "execution_count": 4,
     "metadata": {},
     "output_type": "execute_result"
    }
   ],
   "source": [
    "agent.run(\"\"\"\n",
    "Indexを使ったサンプルコードを見せてください\n",
    "\"\"\")"
   ]
  }
 ],
 "metadata": {
  "kernelspec": {
   "display_name": "Python 3",
   "language": "python",
   "name": "python3"
  },
  "language_info": {
   "codemirror_mode": {
    "name": "ipython",
    "version": 3
   },
   "file_extension": ".py",
   "mimetype": "text/x-python",
   "name": "python",
   "nbconvert_exporter": "python",
   "pygments_lexer": "ipython3",
   "version": "3.11.4"
  },
  "orig_nbformat": 4
 },
 "nbformat": 4,
 "nbformat_minor": 2
}
