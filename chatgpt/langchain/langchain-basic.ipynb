{
 "cells": [
  {
   "cell_type": "markdown",
   "metadata": {},
   "source": [
    "# Langchainの基本操作\n",
    "\n",
    "[LangChain v0.1 クイックスタートガイド - Python版](https://note.com/npaka/n/n1d771995c3aa)\n"
   ]
  },
  {
   "cell_type": "markdown",
   "metadata": {},
   "source": [
    "## 設定\n",
    "\n",
    "環境変数 OPENAI_API_KEY　を設定する\n",
    "```\n",
    "export OPENAI_API_KEY=...\n",
    "```\n",
    "\n",
    "Langchainをインストール (Python3.12.0, poetryを使用)\n",
    "```\n",
    "poetry add langchain=0.1.9\n",
    "poetry add langchain-openai=0.0.8\n",
    "```"
   ]
  },
  {
   "cell_type": "code",
   "execution_count": 6,
   "metadata": {},
   "outputs": [
    {
     "name": "stdout",
     "output_type": "stream",
     "text": [
      "\n",
      "\n",
      "一番大きい元素はウラン (U) です。\n"
     ]
    }
   ],
   "source": [
    "from langchain.llms import OpenAI\n",
    "\n",
    "llm = OpenAI(temperature=0.2)\n",
    "\n",
    "print(llm.predict(\"一番大きい元素は？\"))"
   ]
  },
  {
   "cell_type": "code",
   "execution_count": 9,
   "metadata": {},
   "outputs": [
    {
     "name": "stdout",
     "output_type": "stream",
     "text": [
      "content='最大の元素はウラン（原子番号92）であり、最小の元素は水素（原子番号1）です。ウランの原子半径は約 186 ピコメートルであり、水素の原子半径は約 53 ピコメートルです。したがって、ウランの原子は水素の原子よりも約 3.5 倍大きいです。'\n"
     ]
    }
   ],
   "source": [
    "from langchain_openai import ChatOpenAI\n",
    "from langchain.schema import HumanMessage\n",
    "\n",
    "chat_model = ChatOpenAI(temperature=0.2)\n",
    "\n",
    "messages = [HumanMessage(content=\"一番大きい元素と一番小さな元素の大きさを比較してください。\")]\n",
    "print(chat_model.invoke(messages))"
   ]
  }
 ],
 "metadata": {
  "kernelspec": {
   "display_name": ".venv",
   "language": "python",
   "name": "python3"
  },
  "language_info": {
   "codemirror_mode": {
    "name": "ipython",
    "version": 3
   },
   "file_extension": ".py",
   "mimetype": "text/x-python",
   "name": "python",
   "nbconvert_exporter": "python",
   "pygments_lexer": "ipython3",
   "version": "3.12.0"
  }
 },
 "nbformat": 4,
 "nbformat_minor": 2
}
